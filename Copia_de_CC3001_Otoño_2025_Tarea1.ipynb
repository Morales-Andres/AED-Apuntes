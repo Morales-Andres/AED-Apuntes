{
  "nbformat": 4,
  "nbformat_minor": 0,
  "metadata": {
    "colab": {
      "provenance": [],
      "include_colab_link": true
    },
    "kernelspec": {
      "name": "python3",
      "display_name": "Python 3"
    },
    "language_info": {
      "name": "python"
    }
  },
  "cells": [
    {
      "cell_type": "markdown",
      "metadata": {
        "id": "view-in-github",
        "colab_type": "text"
      },
      "source": [
        "<a href=\"https://colab.research.google.com/github/Morales-Andres/AED-Apuntes/blob/main/Copia_de_CC3001_Oto%C3%B1o_2025_Tarea1.ipynb\" target=\"_parent\"><img src=\"https://colab.research.google.com/assets/colab-badge.svg\" alt=\"Open In Colab\"/></a>"
      ]
    },
    {
      "cell_type": "markdown",
      "source": [
        "# CC3001 Otoño 2025 Tarea 1 [Andrés Morales]\n",
        "\n",
        "# Pilas de arena abelianas\n",
        "\n",
        "### Profesores\n",
        "Sección 1 Iván Sipirán •\n",
        "Sección 2 Nelson Baloian •\n",
        "Sección 3 Patricio Poblete\n",
        "\n",
        "\n"
      ],
      "metadata": {
        "id": "v5Mdk3Z7uxJU"
      }
    },
    {
      "cell_type": "markdown",
      "source": [
        "# Introducción\n",
        "El objetivo de esta tarea es estudiar un problema inspirado en un fenómeno físico, a través de un modelo matemático, el cual si bien es sencillo, produce resultados que presentan una estructura muy interesante.\n",
        "\n",
        "<img src=\"https://ivan-sipiran.com/downloads/arena.png\" alt= “” width=\"200\">\n",
        "\n",
        "La idea es que si uno va formando una pila de arena, llega un momento en que se produce un derrumbe, y la arena de esa pila se derrama hacia los lugares vecinos, estos a su vez se pueden derrumbar, y el proceso continúa hasta que finalmente se estabiliza.\n",
        "\n",
        "Para estudiar este proceso, usaremos un modelo ultra simplificado. Supondremos que la arena se deposita sobre una superficie plana, la cual está dividida en pequeñas celdas cuadradas, las cuales forman un tablero como se muestra en la siguiente figura:\n",
        "\n",
        "<img src=\"https://ivan-sipiran.com/downloads/tablero.png\" alt= “” width=\"100\">\n",
        "\n",
        "El modelo supone que si se apilan demasiados granos de arena en una celda, se produce un derrumbe. En particular, la regla es que si en una celda hay 4 o más granos, se le quitan 4 granos, que se reparten equitativamente hacia las celdas vecinas en los cuatro puntos cardinales.\n",
        "\n",
        "Para simular este proceso, supondremos que cada celda almacena un número entero, que es la cantidad de granos almacenados en su interior. Aplicando la regla antes descrita (y suponiendo que las celdas que aparecen vacías tienen cero granos), desde la configuración\n",
        "\n",
        "<img src=\"https://ivan-sipiran.com/downloads/tablero1.png\" alt= “” width=\"100\">\n",
        "\n",
        "se pasaría a\n",
        "\n",
        "<img src=\"https://ivan-sipiran.com/downloads/tablero2.png\" alt= “” width=\"100\">\n",
        "\n",
        "Cuando hay más de una casilla con exceso de granos de arena, la regla se puede aplicar a ellas en cualquier orden y el resultado final es el mismo. Esta propiedad es la que hace que estas pilas de arena se llamen abelianas.\n",
        "\n",
        "La idea es partir desde una configuración inicial, y luego aplicar esta regla en todos los casilleros que se pueda, hasta que no quede ninguno que tenga 4 o más granos de arena. Esa configuración final la vamos a visualizar asignando un color distinto a cada número de granos.\n",
        "\n",
        "En particular, nos va a interesar estudiar lo que ocurre cuando la configuración inicial tiene todas las celdas vacías, excepto la del centro, en la cual hay $N$ granos de arena (donde $N$ es un parámetro del problema).\n",
        "\n",
        "Note que en teoría el tablero es infinito en el sentido que siempre hay espacio para colocar los granos de arena que se van distribuyendo. Para su simulación, usted debe calcular un tamaño del tablero lo suficientemente grande como para estar seguro que ningún grano de arena se salga hacia afuera de los bordes (calcule la máxima área que se puede cubrir con $N$ granos de arena, y después calcule cuan grande debe ser el tablero  para poder contener esa área)."
      ],
      "metadata": {
        "id": "cOin18Qr5Y2U"
      }
    },
    {
      "cell_type": "markdown",
      "source": [
        "# Tarea\n",
        "\n",
        "## Parte 1\n",
        "Usted debe escribir una función en Python llamada ``arena``, tal que dado un valor de $N$, simule el proceso anteriormente descrito hasta que se estabilice. El programa debe contar e imprimir el número total de veces que se aplicó la regla que distribuye granos de arena hacia los vecinos. Además, debe visualizar en la pantalla el tablero resultante, usando los métodos que se describen más adelante.\n",
        "\n",
        "Por ejemplo, al simular con $N=10000$, la figura que resulta es\n",
        "\n",
        "<img src=\"https://ivan-sipiran.com/downloads/tablero3.png\" alt= “” width=\"250\">\n",
        "\n",
        "La idea va a ser ejecutar la función con un valor de $N$ dado por el profesor ($N=128$) y luego con valores crecientes de $N$, hasta el mayor número que pueda alcanzar dentro de un tiempo de ejecución razonable.\n",
        "\n"
      ],
      "metadata": {
        "id": "FzPTe0FB1raI"
      }
    },
    {
      "cell_type": "markdown",
      "source": [
        "Escriba a continuación la definición de su función:"
      ],
      "metadata": {
        "id": "K-PJVvftYW8_"
      }
    },
    {
      "cell_type": "code",
      "source": [
        "import numpy as np\n",
        "import math\n",
        "import matplotlib.pyplot as plt"
      ],
      "metadata": {
        "id": "mktTegCl4OAk"
      },
      "execution_count": 1,
      "outputs": []
    },
    {
      "cell_type": "code",
      "source": [
        "def arena(N):\n",
        "  n= (2*int(math.sqrt(N//4))+1)\n",
        "  a=n//2\n",
        "  t=np.zeros((n,n))\n",
        "  t[a,a]=N\n",
        "  distribuciones=0\n",
        "  while True: #Realizamos la recursión para la distribución\n",
        "\n",
        "    f, c = np.where(t>=4) #Buscamos la posición donde el valor es >= 4\n",
        "\n",
        "    if len(f)==0: #Si no hay valores >=4 en alguna fila se corta\n",
        "      break\n",
        "\n",
        "    distribuciones+=1 #Desde aqui empezamos a contar las distribuciones\n",
        "\n",
        "    t2 = t.copy() #Creamos una copia de la matriz para agregar valores mas adelante\n",
        "\n",
        "    for i, j in zip(f,c): #asignamos la posicion de la fila y columna para distribuir\n",
        "      t2[i,j]-=4\n",
        "\n",
        "      for di, dj in [(-1, 0), (1, 0), (0, -1), (0, 1)]: #Recorremos los vecinos\n",
        "        i2, j2 = i + di, j + dj\n",
        "        t2[i2,j2] +=1 #sumamos la distribución\n",
        "\n",
        "    t=t2 #actualizamos la matriz distribuida\n",
        "\n",
        "  plt.matshow(t)\n",
        "  plt.show()\n",
        "  print('numero de distribuciones',distribuciones)"
      ],
      "metadata": {
        "id": "yNvS68YlHEbL"
      },
      "execution_count": 2,
      "outputs": []
    },
    {
      "cell_type": "markdown",
      "source": [
        "Explique aquí cómo calculó el tamaño que necesita tener el tablero."
      ],
      "metadata": {
        "id": "sYLLEG7aZlEv"
      }
    },
    {
      "cell_type": "markdown",
      "source": [
        "Ahora ejecute la función para $N=128$:"
      ],
      "metadata": {
        "id": "Oae9MYp3Y0Yz"
      }
    },
    {
      "cell_type": "code",
      "source": [
        "arena(128)"
      ],
      "metadata": {
        "id": "goTvRFGpYyeq",
        "colab": {
          "base_uri": "https://localhost:8080/",
          "height": 454
        },
        "outputId": "1a21587d-c6b1-48ef-d29b-acb88d3ee227"
      },
      "execution_count": 7,
      "outputs": [
        {
          "output_type": "display_data",
          "data": {
            "text/plain": [
              "<Figure size 480x480 with 1 Axes>"
            ],
            "image/png": "[encoded data removed]"
          },
          "metadata": {}
        },
        {
          "output_type": "stream",
          "name": "stdout",
          "text": [
            "numero de distribuciones 62\n"
          ]
        }
      ]
    },
    {
      "cell_type": "markdown",
      "source": [
        "A continuación ejecute la función para el valor más grande de $N$ que consiga alcanzar en un tiempo razonable:"
      ],
      "metadata": {
        "id": "rRg4A0WzYrVx"
      }
    },
    {
      "cell_type": "code",
      "source": [
        "arena(10000) # reemplace N por el valor máximo que alcanzó a procesar"
      ],
      "metadata": {
        "id": "zHYqujX5ZP-t",
        "colab": {
          "base_uri": "https://localhost:8080/",
          "height": 456
        },
        "outputId": "dca3ab1f-56e8-480e-d8fa-59b584de5ec6"
      },
      "execution_count": 4,
      "outputs": [
        {
          "output_type": "display_data",
          "data": {
            "text/plain": [
              "<Figure size 480x480 with 1 Axes>"
            ],
            "image/png": "[encoded data removed]"
          },
          "metadata": {}
        },
        {
          "output_type": "stream",
          "name": "stdout",
          "text": [
            "numero de distribuciones 8002\n"
          ]
        }
      ]
    },
    {
      "cell_type": "markdown",
      "source": [
        "## Parte 2\n",
        "Observe que cuando en una celda hay un número grande de granos de arena, es muy ineficiente ir quitándole de 4 en 4, y sería mejor quitar de una sola vez lo más que se pueda. Podemos mejorar nuestro programa si cambiamos la regla de distribución, y decimos que si en una celda hay un número de granos de arena mayor o igual a 4, le quitamos de una sola vez el mayor múltiplo de 4 posible, y todos esos granos lo repartimos equitativamente entre los vecinos de los cuatro puntos cardinales. Escriba una versión modificada de su función de acuerdo a esta nueva regla.\n",
        "\n"
      ],
      "metadata": {
        "id": "_VYccou2XsRi"
      }
    },
    {
      "cell_type": "code",
      "source": [
        "def arena2(N):\n",
        "  n= (2*int(math.sqrt(N//4))+1)\n",
        "  a=n//2\n",
        "  t=np.zeros((n,n))\n",
        "  t[a,a]=N\n",
        "  distribuciones=0\n",
        "  while True: #Realizamos la recursión para la distribución\n",
        "\n",
        "    f, c = np.where(t>=4) #Buscamos la posición donde el valor es >= 4\n",
        "\n",
        "    if len(f)==0: #Si no hay valores >=4 en alguna fila se corta\n",
        "      break\n",
        "\n",
        "    distribuciones+=1 #Desde aqui empezamos a contar las distribuciones\n",
        "\n",
        "    t2 = t.copy() #Creamos una copia de la matriz para agregar valores mas adelante\n",
        "\n",
        "    for i, j in zip(f,c): #asignamos la posicion de la fila y columna para distribuir\n",
        "      d = t2[i,j]//4 #obtenemos la cantidad a distribuir a cada vecino\n",
        "      r = t2[i,j]%4 #guardamos el resto de la division exacta\n",
        "      t2[i,j]=r #asignamos el resto a la casilla\n",
        "\n",
        "      for di, dj in [(-1, 0), (1, 0), (0, -1), (0, 1)]: #Recorremos los vecinos\n",
        "        i2, j2 = i + di, j + dj\n",
        "        t2[i2,j2] +=d #sumamos la distribución\n",
        "\n",
        "    t=t2 #actualizamos la matriz distribuida\n",
        "\n",
        "  plt.matshow(t)\n",
        "  plt.show()\n",
        "  print('numero de distribuciones',distribuciones)"
      ],
      "metadata": {
        "id": "UBQQ9mRnb8c8"
      },
      "execution_count": 5,
      "outputs": []
    },
    {
      "cell_type": "markdown",
      "source": [
        "Ahora ejecute la función para $N=128$:"
      ],
      "metadata": {
        "id": "wtpLGoz9cF9J"
      }
    },
    {
      "cell_type": "code",
      "source": [
        "arena2(128)"
      ],
      "metadata": {
        "id": "7qDn9EAIcIyk",
        "colab": {
          "base_uri": "https://localhost:8080/",
          "height": 454
        },
        "outputId": "8d039987-71ea-4cde-c3cb-12a70bee0ed8"
      },
      "execution_count": 6,
      "outputs": [
        {
          "output_type": "display_data",
          "data": {
            "text/plain": [
              "<Figure size 480x480 with 1 Axes>"
            ],
            "image/png": "[encoded data removed]"
          },
          "metadata": {}
        },
        {
          "output_type": "stream",
          "name": "stdout",
          "text": [
            "numero de distribuciones 27\n"
          ]
        }
      ]
    },
    {
      "cell_type": "markdown",
      "source": [
        "A continuación ejecute la función para el valor más grande de  𝑁  que consiga alcanzar en un tiempo razonable. Note que éste número no necesariamente es el mismo que para la función anterior:"
      ],
      "metadata": {
        "id": "WmedJY_7cRHI"
      }
    },
    {
      "cell_type": "code",
      "source": [
        "arena2(10000) # reemplace N por el valor máximo que alcanzó a procesar"
      ],
      "metadata": {
        "id": "rhGysVoqcn7e",
        "colab": {
          "base_uri": "https://localhost:8080/",
          "height": 456
        },
        "outputId": "b5004e7d-b2ab-4b0e-98c5-eeaed674572d"
      },
      "execution_count": 9,
      "outputs": [
        {
          "output_type": "display_data",
          "data": {
            "text/plain": [
              "<Figure size 480x480 with 1 Axes>"
            ],
            "image/png": "[encoded data removed]"
          },
          "metadata": {}
        },
        {
          "output_type": "stream",
          "name": "stdout",
          "text": [
            "numero de distribuciones 1940\n"
          ]
        }
      ]
    },
    {
      "cell_type": "markdown",
      "source": [
        "## Parte 3\n",
        "Compare a través de una tabla y un gráfico el número de aplicaciones de la regla que hace el programa en la Parte 1 y el de la Parte 2, para los distintos valores de $N$ que usted haya calculado.\n",
        "\n",
        "Discuta si valió la pena la optimización y discuta también (pero no implemente) otras posibles optimizaciones que se le ocurran."
      ],
      "metadata": {
        "id": "9NzVGUtaX9yT"
      }
    },
    {
      "cell_type": "markdown",
      "source": [
        "# Visualización\n",
        "\n",
        "Para la visualización se recomienda usar arreglos de Numpy y la librería Matplotlib. A continuación un código de ejemplo:"
      ],
      "metadata": {
        "id": "rNMcTh824f8G"
      }
    },
    {
      "cell_type": "code",
      "execution_count": null,
      "metadata": {
        "id": "iTkKsqy3uqha",
        "colab": {
          "base_uri": "https://localhost:8080/",
          "height": 330
        },
        "outputId": "6bd4a556-c3a8-4ae4-e8e9-c1b859db9d3e"
      },
      "outputs": [
        {
          "output_type": "display_data",
          "data": {
            "text/plain": [
              "<Figure size 288x360 with 1 Axes>"
            ],
            "image/png": "[encoded data removed]"
          },
          "metadata": {
            "needs_background": "light"
          }
        }
      ],
      "source": [
        "import matplotlib.pyplot as plt\n",
        "import numpy as np\n",
        "\n",
        "# Crea una matriz de numpy llena de ceros de dimensión 5x4\n",
        "mat = np.zeros((5,4))\n",
        "\n",
        "#Asigna un uno en la posición (0,1)\n",
        "mat[0][1] = 1\n",
        "\n",
        "#Dibuja\n",
        "plt.matshow(mat)\n",
        "plt.show()"
      ]
    },
    {
      "cell_type": "markdown",
      "source": [
        "## ¿Qué hay que entregar?\n",
        "\n",
        "Usted debe crear una copia de este documento (del menú seleccionar \"Archivo\" o \"File\" y de ahi la opción \"guardar copia en Drive\" o \"save a copy in Drive\"). Este nuevo documento (notebook de Colab) es el que debe modificar para luego compartirlo con la opción \"Cualquier usuario de internet con este enlace puede ver esto\" (o “Anyone on the internet with this link can view”). Esta opción se encuentra disponible en la parte superior derecha de su notebook, en el botón \"Compartir\" (o \"Share\"). Una vez que tenga disponible el enlace, colocarlo en la descripción de la entrega de su tarea. No olvide colocar su nombre dentro del notebook."
      ],
      "metadata": {
        "id": "4Qy53sN95hDF"
      }
    }
  ]
}